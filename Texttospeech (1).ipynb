{
  "nbformat": 4,
  "nbformat_minor": 0,
  "metadata": {
    "colab": {
      "provenance": []
    },
    "kernelspec": {
      "name": "python3",
      "display_name": "Python 3"
    },
    "language_info": {
      "name": "python"
    }
  },
  "cells": [
    {
      "cell_type": "code",
      "execution_count": null,
      "metadata": {
        "colab": {
          "base_uri": "https://localhost:8080/"
        },
        "id": "nqAFM2JJhujd",
        "outputId": "bdbe69d8-215b-4b42-9573-0b9efeed5cf2"
      },
      "outputs": [
        {
          "output_type": "stream",
          "name": "stdout",
          "text": [
            "Collecting gTTS\n",
            "  Downloading gTTS-2.5.1-py3-none-any.whl (29 kB)\n",
            "Requirement already satisfied: requests<3,>=2.27 in /usr/local/lib/python3.10/dist-packages (from gTTS) (2.31.0)\n",
            "Requirement already satisfied: click<8.2,>=7.1 in /usr/local/lib/python3.10/dist-packages (from gTTS) (8.1.7)\n",
            "Requirement already satisfied: charset-normalizer<4,>=2 in /usr/local/lib/python3.10/dist-packages (from requests<3,>=2.27->gTTS) (3.3.2)\n",
            "Requirement already satisfied: idna<4,>=2.5 in /usr/local/lib/python3.10/dist-packages (from requests<3,>=2.27->gTTS) (3.7)\n",
            "Requirement already satisfied: urllib3<3,>=1.21.1 in /usr/local/lib/python3.10/dist-packages (from requests<3,>=2.27->gTTS) (2.0.7)\n",
            "Requirement already satisfied: certifi>=2017.4.17 in /usr/local/lib/python3.10/dist-packages (from requests<3,>=2.27->gTTS) (2024.2.2)\n",
            "Installing collected packages: gTTS\n",
            "Successfully installed gTTS-2.5.1\n"
          ]
        },
        {
          "output_type": "stream",
          "name": "stderr",
          "text": [
            "[nltk_data] Downloading package words to /root/nltk_data...\n",
            "[nltk_data]   Unzipping corpora/words.zip.\n",
            "[nltk_data] Downloading package punkt to /root/nltk_data...\n",
            "[nltk_data]   Unzipping tokenizers/punkt.zip.\n"
          ]
        },
        {
          "output_type": "execute_result",
          "data": {
            "text/plain": [
              "True"
            ]
          },
          "metadata": {},
          "execution_count": 1
        }
      ],
      "source": [
        "import torchaudio\n",
        "import torch\n",
        "import librosa\n",
        "import numpy as np\n",
        "!pip install gTTS\n",
        "from gtts import gTTS\n",
        "from scipy.io import wavfile\n",
        "from scipy.signal import stft\n",
        "import nltk\n",
        "from nltk.corpus import words\n",
        "\n",
        "nltk.download('words')\n",
        "nltk.download('punkt')\n",
        "\n",
        "\n",
        "\n"
      ]
    },
    {
      "cell_type": "code",
      "source": [
        "# Function to preprocess text input\n",
        "def preprocess_text(text):\n",
        "    # Tokenize the text into words\n",
        "    words_list = nltk.word_tokenize(text)\n",
        "\n",
        "    # Filter out non-English words\n",
        "    english_vocab = set(words.words())\n",
        "    english_words = [word for word in words_list if word.lower() in english_vocab]\n",
        "\n",
        "    # Join the English words back into text\n",
        "    processed_text = ' '.join(english_words)\n",
        "\n",
        "    return processed_text"
      ],
      "metadata": {
        "id": "EZ47mzlLiMWD"
      },
      "execution_count": null,
      "outputs": []
    },
    {
      "cell_type": "code",
      "source": [
        "# Function to convert text to mel spectrogram\n",
        "def text_to_melspectrogram(text, sample_rate=22050, n_fft=1024, hop_length=256, n_mels=80):\n",
        "    # Convert text to speech and save to file\n",
        "    tts = gTTS(text=text, lang='en')\n",
        "    tts.save(\"temp.mp3\")\n",
        "\n",
        "    # Load the audio and compute mel spectrogram using librosa\n",
        "    waveform, _ = librosa.load(\"temp.mp3\", sr=sample_rate)\n",
        "    mel_spec = librosa.feature.melspectrogram(y=waveform, sr=sample_rate, n_fft=n_fft, hop_length=hop_length, n_mels=n_mels)\n",
        "    mel_spec = librosa.power_to_db(mel_spec, ref=np.max)\n",
        "\n",
        "    return torch.tensor(mel_spec)\n",
        "\n"
      ],
      "metadata": {
        "id": "vM-dGVw9h0cF"
      },
      "execution_count": null,
      "outputs": []
    },
    {
      "cell_type": "code",
      "source": [
        "# Function to convert mel spectrogram to audio waveform\n",
        "def melspectrogram_to_audio(mel_spec, sample_rate=22050, n_fft=1024, hop_length=256):\n",
        "    # Invert mel spectrogram back to waveform using librosa\n",
        "    mel_spec = librosa.db_to_power(mel_spec.numpy())\n",
        "    waveform = librosa.feature.inverse.mel_to_audio(mel_spec, sr=sample_rate, n_fft=n_fft, hop_length=hop_length)\n",
        "\n",
        "    return torch.tensor(waveform)\n",
        "# Function to save audio waveform to file\n",
        "def save_audio(waveform, output_path, sample_rate=22050):\n",
        "    wavfile.write(output_path, sample_rate, waveform.numpy())\n",
        "\n"
      ],
      "metadata": {
        "id": "YU_aM2jVh3S4"
      },
      "execution_count": null,
      "outputs": []
    },
    {
      "cell_type": "code",
      "source": [
        "\n",
        "# Receive user input\n",
        "user_text = input(\"Enter the text you want to convert to speech: \")\n",
        "user_text = preprocess_text(user_text)\n",
        "\n",
        "# Convert text to mel spectrogram\n",
        "mel_spec = text_to_melspectrogram(user_text)\n",
        "\n",
        "# Convert mel spectrogram to audio waveform\n",
        "audio_waveform = melspectrogram_to_audio(mel_spec)\n",
        "\n",
        "# Save audio waveform to file\n",
        "output_path = \"output_audio.wav\"\n",
        "save_audio(audio_waveform, output_path)\n",
        "\n",
        "# Download the synthesized audio\n",
        "from google.colab import files\n",
        "files.download(output_path)"
      ],
      "metadata": {
        "colab": {
          "base_uri": "https://localhost:8080/",
          "height": 34
        },
        "id": "O0nnQwCjh5m6",
        "outputId": "bbe6c556-87a1-4384-9322-2457006dd871"
      },
      "execution_count": null,
      "outputs": [
        {
          "name": "stdout",
          "output_type": "stream",
          "text": [
            "Enter the text you want to convert to speech: hello\n"
          ]
        },
        {
          "output_type": "display_data",
          "data": {
            "text/plain": [
              "<IPython.core.display.Javascript object>"
            ],
            "application/javascript": [
              "\n",
              "    async function download(id, filename, size) {\n",
              "      if (!google.colab.kernel.accessAllowed) {\n",
              "        return;\n",
              "      }\n",
              "      const div = document.createElement('div');\n",
              "      const label = document.createElement('label');\n",
              "      label.textContent = `Downloading \"${filename}\": `;\n",
              "      div.appendChild(label);\n",
              "      const progress = document.createElement('progress');\n",
              "      progress.max = size;\n",
              "      div.appendChild(progress);\n",
              "      document.body.appendChild(div);\n",
              "\n",
              "      const buffers = [];\n",
              "      let downloaded = 0;\n",
              "\n",
              "      const channel = await google.colab.kernel.comms.open(id);\n",
              "      // Send a message to notify the kernel that we're ready.\n",
              "      channel.send({})\n",
              "\n",
              "      for await (const message of channel.messages) {\n",
              "        // Send a message to notify the kernel that we're ready.\n",
              "        channel.send({})\n",
              "        if (message.buffers) {\n",
              "          for (const buffer of message.buffers) {\n",
              "            buffers.push(buffer);\n",
              "            downloaded += buffer.byteLength;\n",
              "            progress.value = downloaded;\n",
              "          }\n",
              "        }\n",
              "      }\n",
              "      const blob = new Blob(buffers, {type: 'application/binary'});\n",
              "      const a = document.createElement('a');\n",
              "      a.href = window.URL.createObjectURL(blob);\n",
              "      a.download = filename;\n",
              "      div.appendChild(a);\n",
              "      a.click();\n",
              "      div.remove();\n",
              "    }\n",
              "  "
            ]
          },
          "metadata": {}
        },
        {
          "output_type": "display_data",
          "data": {
            "text/plain": [
              "<IPython.core.display.Javascript object>"
            ],
            "application/javascript": [
              "download(\"download_da8f200c-64d3-496e-922d-b324dd50afd7\", \"output_audio.wav\", 73786)"
            ]
          },
          "metadata": {}
        }
      ]
    }
  ]
}